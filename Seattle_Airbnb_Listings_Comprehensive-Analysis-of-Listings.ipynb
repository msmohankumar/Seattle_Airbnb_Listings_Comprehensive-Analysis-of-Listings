{
 "cells": [
  {
   "cell_type": "markdown",
   "metadata": {},
   "source": [
    "# Airbnb-Data-Science-Project-listing-Seattle for Uadacity nano Degree"
   ]
  },
  {
   "cell_type": "markdown",
   "metadata": {},
   "source": [
    "# Section 1 :- Business Understanding\n",
    "### The provided code addresses several questions related to analyzing Airbnb listing data for properties in Seattle. Let's break down the business understanding based on each question:\n",
    "\n",
    "# Question-1: Most Common Amenities\n",
    "####  Understanding the most common amenities helps Airbnb hosts to prioritize what features to offer in their listings. By knowing which amenities are in high demand, hosts can attract more guests and potentially increase booking rates.\n",
    "\n",
    "# Question-2: Factors Attracting Guests\n",
    "#### This question delves into what factors influence guests the most when choosing a property to rent. By analyzing booking ratios based on room type, property type, and amenities, hosts can gain insights into what features are most appealing to guests. This information can guide hosts in optimizing their listings to attract more bookings.\n",
    "\n",
    "# Question-3: Estimating Listing Price\n",
    "#### The objective here is to build a model to estimate the price of a listing based on various features. Understanding the factors that influence listing prices can help hosts set competitive prices for their properties. By knowing which features have the most significant impact on pricing, hosts can adjust their offerings strategically to maximize profitability.\n",
    "\n",
    "# Question-4: Proximity to Downtown\n",
    "#### Analyzing the effect of a listing's proximity to downtown on its price provides valuable insights for both hosts and guests. Hosts can understand how location impacts pricing and adjust their pricing strategies accordingly. Guests can use this information to make informed decisions based on their preferences for proximity to downtown areas."
   ]
  },
  {
   "cell_type": "markdown",
   "metadata": {},
   "source": [
    "# Section 2 :- Data Understanding: Loading and examining the dataset"
   ]
  },
  {
   "cell_type": "code",
   "execution_count": 51,
   "metadata": {},
   "outputs": [],
   "source": [
    "# Section 2 :- Data Understanding: Loading and examining the datasetimport numpy as np\n",
    "import pandas as pd\n",
    "import matplotlib.pyplot as plt\n",
    "from sklearn.linear_model import LinearRegression\n",
    "from sklearn.model_selection import train_test_split\n",
    "from sklearn.metrics import r2_score, mean_squared_error\n",
    "import seaborn as sns\n",
    "from collections import defaultdict\n",
    "from sklearn.feature_selection import SelectKBest\n",
    "from sklearn.feature_selection import f_regression\n",
    "import math\n",
    "%matplotlib inline\n",
    "\n",
    "df_lis = pd.read_csv('listings.csv')"
   ]
  },
  {
   "cell_type": "markdown",
   "metadata": {},
   "source": [
    "# Prepare Data"
   ]
  },
  {
   "cell_type": "markdown",
   "metadata": {},
   "source": [
    "### First I would like to know about the dimentions of each dataset."
   ]
  },
  {
   "cell_type": "code",
   "execution_count": 52,
   "metadata": {
    "scrolled": true
   },
   "outputs": [
    {
     "name": "stdout",
     "output_type": "stream",
     "text": [
      "(3585, 95)\n"
     ]
    }
   ],
   "source": [
    "#Below code gives information about the number of columns and number of rows.\n",
    "print(df_lis.shape)"
   ]
  },
  {
   "cell_type": "markdown",
   "metadata": {},
   "source": [
    "### The listings show each house's informations so I would like to know more about this dataset, starting with the column names and data types of each house."
   ]
  },
  {
   "cell_type": "code",
   "execution_count": 53,
   "metadata": {},
   "outputs": [
    {
     "data": {
      "text/plain": [
       "object     62\n",
       "float64    18\n",
       "int64      15\n",
       "dtype: int64"
      ]
     },
     "execution_count": 53,
     "metadata": {},
     "output_type": "execute_result"
    }
   ],
   "source": [
    "#Below code show the data types and the number of these data types in the dataset\n",
    "df_lis.dtypes.value_counts()"
   ]
  },
  {
   "cell_type": "code",
   "execution_count": 54,
   "metadata": {
    "scrolled": true
   },
   "outputs": [
    {
     "data": {
      "text/plain": [
       "neighbourhood_group_cleansed    float64\n",
       "latitude                        float64\n",
       "longitude                       float64\n",
       "bathrooms                       float64\n",
       "bedrooms                        float64\n",
       "beds                            float64\n",
       "square_feet                     float64\n",
       "has_availability                float64\n",
       "review_scores_rating            float64\n",
       "review_scores_accuracy          float64\n",
       "review_scores_cleanliness       float64\n",
       "review_scores_checkin           float64\n",
       "review_scores_communication     float64\n",
       "review_scores_location          float64\n",
       "review_scores_value             float64\n",
       "license                         float64\n",
       "jurisdiction_names              float64\n",
       "reviews_per_month               float64\n",
       "dtype: object"
      ]
     },
     "execution_count": 54,
     "metadata": {},
     "output_type": "execute_result"
    }
   ],
   "source": [
    "#Below code show the name of the columns which are float64 data type\n",
    "df_lis.dtypes[df_lis.dtypes=='float64']"
   ]
  },
  {
   "cell_type": "code",
   "execution_count": 55,
   "metadata": {},
   "outputs": [
    {
     "data": {
      "text/plain": [
       "id                                int64\n",
       "scrape_id                         int64\n",
       "host_id                           int64\n",
       "host_listings_count               int64\n",
       "host_total_listings_count         int64\n",
       "accommodates                      int64\n",
       "guests_included                   int64\n",
       "minimum_nights                    int64\n",
       "maximum_nights                    int64\n",
       "availability_30                   int64\n",
       "availability_60                   int64\n",
       "availability_90                   int64\n",
       "availability_365                  int64\n",
       "number_of_reviews                 int64\n",
       "calculated_host_listings_count    int64\n",
       "dtype: object"
      ]
     },
     "execution_count": 55,
     "metadata": {},
     "output_type": "execute_result"
    }
   ],
   "source": [
    "#Below code show the name of the columns which are int64 data type\n",
    "df_lis.dtypes[df_lis.dtypes=='int64']"
   ]
  },
  {
   "cell_type": "code",
   "execution_count": 56,
   "metadata": {},
   "outputs": [
    {
     "data": {
      "text/plain": [
       "listing_url                         object\n",
       "last_scraped                        object\n",
       "name                                object\n",
       "summary                             object\n",
       "space                               object\n",
       "description                         object\n",
       "experiences_offered                 object\n",
       "neighborhood_overview               object\n",
       "notes                               object\n",
       "transit                             object\n",
       "access                              object\n",
       "interaction                         object\n",
       "house_rules                         object\n",
       "thumbnail_url                       object\n",
       "medium_url                          object\n",
       "picture_url                         object\n",
       "xl_picture_url                      object\n",
       "host_url                            object\n",
       "host_name                           object\n",
       "host_since                          object\n",
       "host_location                       object\n",
       "host_about                          object\n",
       "host_response_time                  object\n",
       "host_response_rate                  object\n",
       "host_acceptance_rate                object\n",
       "host_is_superhost                   object\n",
       "host_thumbnail_url                  object\n",
       "host_picture_url                    object\n",
       "host_neighbourhood                  object\n",
       "host_verifications                  object\n",
       "host_has_profile_pic                object\n",
       "host_identity_verified              object\n",
       "street                              object\n",
       "neighbourhood                       object\n",
       "neighbourhood_cleansed              object\n",
       "city                                object\n",
       "state                               object\n",
       "zipcode                             object\n",
       "market                              object\n",
       "smart_location                      object\n",
       "country_code                        object\n",
       "country                             object\n",
       "is_location_exact                   object\n",
       "property_type                       object\n",
       "room_type                           object\n",
       "bed_type                            object\n",
       "amenities                           object\n",
       "price                               object\n",
       "weekly_price                        object\n",
       "monthly_price                       object\n",
       "security_deposit                    object\n",
       "cleaning_fee                        object\n",
       "extra_people                        object\n",
       "calendar_updated                    object\n",
       "calendar_last_scraped               object\n",
       "first_review                        object\n",
       "last_review                         object\n",
       "requires_license                    object\n",
       "instant_bookable                    object\n",
       "cancellation_policy                 object\n",
       "require_guest_profile_picture       object\n",
       "require_guest_phone_verification    object\n",
       "dtype: object"
      ]
     },
     "execution_count": 56,
     "metadata": {},
     "output_type": "execute_result"
    }
   ],
   "source": [
    "#Below code show the name of the columns which are object data type\n",
    "pd.set_option('display.max_rows', 92)\n",
    "df_lis.dtypes[df_lis.dtypes=='object']"
   ]
  },
  {
   "cell_type": "markdown",
   "metadata": {},
   "source": [
    "There are many columns that are considered as object, yet some of they should be treated as integer or float (especially those price columns.) This is a type change problem that I will handle later. For now I would like to know about the number missing values and number of unique inputs in each column."
   ]
  },
  {
   "cell_type": "code",
   "execution_count": 57,
   "metadata": {},
   "outputs": [
    {
     "data": {
      "text/plain": [
       "has_availability                3585\n",
       "license                         3585\n",
       "neighbourhood_group_cleansed    3585\n",
       "jurisdiction_names              3585\n",
       "square_feet                     3529\n",
       "                                ... \n",
       "is_location_exact                  0\n",
       "room_type                          0\n",
       "accommodates                       0\n",
       "bed_type                           0\n",
       "country                            0\n",
       "Length: 95, dtype: int64"
      ]
     },
     "execution_count": 57,
     "metadata": {},
     "output_type": "execute_result"
    }
   ],
   "source": [
    "#Below code shows the number of missing values in each column in descending order\n",
    "df_lis.isnull().sum().sort_values(ascending=False)"
   ]
  },
  {
   "cell_type": "code",
   "execution_count": 58,
   "metadata": {},
   "outputs": [
    {
     "data": {
      "text/plain": [
       "id             3585\n",
       "listing_url    3585\n",
       "picture_url    3585\n",
       "latitude       3585\n",
       "longitude      3585\n",
       "dtype: int64"
      ]
     },
     "execution_count": 58,
     "metadata": {},
     "output_type": "execute_result"
    }
   ],
   "source": [
    "#Below code shows the columns names that do not have any missing values and all values are unique (different from each other) \n",
    "df_lis.nunique()[df_lis.nunique()==len(df_lis)]"
   ]
  },
  {
   "cell_type": "code",
   "execution_count": 59,
   "metadata": {},
   "outputs": [
    {
     "data": {
      "text/plain": [
       "name                                3504\n",
       "description                         3423\n",
       "summary                             3113\n",
       "amenities                           3092\n",
       "xl_picture_url                      2986\n",
       "medium_url                          2986\n",
       "thumbnail_url                       2986\n",
       "space                               2268\n",
       "host_url                            2181\n",
       "host_id                             2181\n",
       "host_picture_url                    2174\n",
       "host_thumbnail_url                  2174\n",
       "house_rules                         1928\n",
       "transit                             1859\n",
       "access                              1762\n",
       "neighborhood_overview               1728\n",
       "interaction                         1617\n",
       "host_name                           1334\n",
       "host_since                          1281\n",
       "notes                               1269\n",
       "host_about                          1240\n",
       "street                              1239\n",
       "first_review                         975\n",
       "reviews_per_month                    644\n",
       "last_review                          404\n",
       "availability_365                     348\n",
       "price                                324\n",
       "monthly_price                        288\n",
       "weekly_price                         243\n",
       "number_of_reviews                    178\n",
       "host_location                        176\n",
       "availability_90                       91\n",
       "maximum_nights                        85\n",
       "host_verifications                    83\n",
       "cleaning_fee                          79\n",
       "host_acceptance_rate                  72\n",
       "availability_60                       61\n",
       "security_deposit                      54\n",
       "host_neighbourhood                    53\n",
       "host_response_rate                    52\n",
       "extra_people                          51\n",
       "review_scores_rating                  48\n",
       "zipcode                               43\n",
       "smart_location                        39\n",
       "calendar_updated                      38\n",
       "city                                  38\n",
       "square_feet                           37\n",
       "host_listings_count                   35\n",
       "host_total_listings_count             35\n",
       "availability_30                       31\n",
       "neighbourhood                         30\n",
       "minimum_nights                        29\n",
       "neighbourhood_cleansed                25\n",
       "calculated_host_listings_count        25\n",
       "accommodates                          14\n",
       "guests_included                       13\n",
       "property_type                         13\n",
       "bathrooms                             12\n",
       "beds                                  11\n",
       "review_scores_location                 9\n",
       "review_scores_cleanliness              9\n",
       "review_scores_value                    9\n",
       "review_scores_checkin                  8\n",
       "review_scores_accuracy                 8\n",
       "review_scores_communication            7\n",
       "bedrooms                               6\n",
       "bed_type                               5\n",
       "market                                 4\n",
       "host_response_time                     4\n",
       "cancellation_policy                    4\n",
       "room_type                              3\n",
       "require_guest_phone_verification       2\n",
       "require_guest_profile_picture          2\n",
       "instant_bookable                       2\n",
       "is_location_exact                      2\n",
       "host_identity_verified                 2\n",
       "host_has_profile_pic                   2\n",
       "host_is_superhost                      2\n",
       "calendar_last_scraped                  1\n",
       "last_scraped                           1\n",
       "country                                1\n",
       "country_code                           1\n",
       "state                                  1\n",
       "requires_license                       1\n",
       "experiences_offered                    1\n",
       "scrape_id                              1\n",
       "has_availability                       0\n",
       "license                                0\n",
       "jurisdiction_names                     0\n",
       "neighbourhood_group_cleansed           0\n",
       "dtype: int64"
      ]
     },
     "execution_count": 59,
     "metadata": {},
     "output_type": "execute_result"
    }
   ],
   "source": [
    "#Below code shows the columns names that have some missing values and number of unique values in that column\n",
    "df_lis.nunique()[df_lis.nunique() != len(df_lis)].sort_values(ascending=False)"
   ]
  },
  {
   "cell_type": "markdown",
   "metadata": {},
   "source": [
    "## Question-1: Most common amenities\n",
    "\n",
    "When I look into the dataset, I see **amenities** column which gives detailed information about features of the listing. I would like to know what are the most common amenities that are available in Seattle Airbnb dataset. So the question is: What are the most common amenities?"
   ]
  },
  {
   "cell_type": "markdown",
   "metadata": {},
   "source": [
    "### The code in the below cell creates the list of amenties available."
   ]
  },
  {
   "cell_type": "code",
   "execution_count": 60,
   "metadata": {},
   "outputs": [],
   "source": [
    "#I first create an empty list to fill with amenities available.\n",
    "list_of_amenities = []\n",
    "\n",
    "#I create a for loop to append all amenities values from the dataset into the list.\n",
    "for i in range(len(df_lis)):\n",
    "    list_of_amenities.append(df_lis['amenities'][i])\n",
    "\n",
    "    \n",
    "#In the dataset, every listing has a list of amenities, so in order to take unique amenities from the whole dataset\n",
    "#I use the below code. I use the \"set\" function to make the amenities unique and than convert the set into a list\n",
    "#to remain consistency of data type.\n",
    "list_of_amenities = list((s.strip('\\'\\{\\}') for s in list_of_amenities))\n",
    "list_of_amenities_string = \",\".join(list_of_amenities)\n",
    "list_of_amenities = list(set(list_of_amenities_string.split(\",\")))\n",
    "\n",
    "#After execution the above lines in this cell, we have an empty string in the list of amenties.\n",
    "#We have to remove that one from the list.\n",
    "without_empty_list_of_amenities = []\n",
    "for string in list_of_amenities:\n",
    "    if (string != \"\"):\n",
    "        without_empty_list_of_amenities.append(string)\n",
    "list_of_amenities = without_empty_list_of_amenities"
   ]
  },
  {
   "cell_type": "markdown",
   "metadata": {},
   "source": [
    "### The code in the below cell is taken from one of the Udacity lecture notes (named: HowToBreakIntoTheField.py).\n",
    "### This function is used to count the number of listings that contains each amenity in the amenities list."
   ]
  },
  {
   "cell_type": "code",
   "execution_count": 61,
   "metadata": {},
   "outputs": [],
   "source": [
    "def total_count(df, col1, col2, look_for):\n",
    "    '''\n",
    "    INPUT:\n",
    "    df - the pandas dataframe you want to search\n",
    "    col1 - the column name you want to look through\n",
    "    col2 - the column you want to count values from\n",
    "    look_for - a list of strings you want to search for in each row of df[col]\n",
    "\n",
    "    OUTPUT:\n",
    "    new_df - a dataframe of each look_for with the count of how often it shows up\n",
    "    '''\n",
    "    new_df = defaultdict(int)\n",
    "    #loop through list of amenities\n",
    "    for val in look_for:\n",
    "        #loop through rows\n",
    "        for idx in range(df.shape[0]):\n",
    "            #if the amenity is in the row add 1\n",
    "            if val in df[col1][idx]:\n",
    "                new_df[val] += int(df[col2][idx])\n",
    "    new_df = pd.DataFrame(pd.Series(new_df)).reset_index()\n",
    "    new_df.columns = [col1, col2]\n",
    "    new_df.sort_values('count', ascending=False, inplace=True)\n",
    "    return new_df"
   ]
  },
  {
   "cell_type": "code",
   "execution_count": 62,
   "metadata": {},
   "outputs": [
    {
     "data": {
      "image/png": "[encoded data removed]",
      "text/plain": [
       "<Figure size 640x480 with 1 Axes>"
      ]
     },
     "metadata": {},
     "output_type": "display_data"
    }
   ],
   "source": [
    "#I create a dataframe named study, which has lists of amenities as one column and the count of these amenities lists\n",
    "#in our main (df_lis)\n",
    "study = df_lis['amenities'].value_counts().reset_index()\n",
    "study.rename(columns={'index': 'amenities', 'amenities': 'count'}, inplace=True)\n",
    "\n",
    "#Here with the total_count function, I count the number of listings that contains each amenity in the amenities list.\n",
    "study_df = total_count(study, 'amenities', 'count', list_of_amenities)\n",
    "study_df.set_index('amenities', inplace=True)\n",
    "\n",
    "#Here I create a bar chart to show the percentage of each amenity from the most common to the least common.\n",
    "(study_df/len(df_lis))[:20].plot(kind='bar', legend=None);\n",
    "plt.title('Top 20 Most Common Amenities in The Dataset');\n",
    "plt.ylabel('How many percent of listings has the amenity')\n",
    "plt.show()"
   ]
  },
  {
   "cell_type": "markdown",
   "metadata": {},
   "source": [
    "### The analysis identified the most common amenities in Seattle Airbnb listings. By parsing the amenities column, the code extracted unique amenities and counted their occurrences across all listings. The top five most common amenities were identified as:\n",
    "- Internet\n",
    "- Wireless Internet\n",
    "- Heating\n",
    "- Smoke Detector\n",
    "- Essentials\n",
    "\n",
    "\n",
    "\n",
    "### Whereas the least common amenities in Seattle listings are:\n",
    "- Lock on Bedroom Door\n",
    "- Doorman\n",
    "- Smoking Allowed\n",
    "- Other pet(s)\n",
    "- Washer / Dryer"
   ]
  },
  {
   "cell_type": "markdown",
   "metadata": {},
   "source": [
    "## Question-2\n",
    "\n",
    "When I look into the dataset, I see some important features of listigs. Some of these features have seperate columns (for example property_type or room_type) and some of these features are in **amenities** column. What I would like to know about this dataset is, \"What attracts the guests most for renting a property?\". I will try to answer this question below.\n",
    "\n",
    "In order to understand the popularity of a listing I will use the **availability_30** column. Because it gives an idea about the booking ratio (or popularity) of the property."
   ]
  },
  {
   "cell_type": "markdown",
   "metadata": {},
   "source": [
    "## Calculate booking ratio for next 30 days"
   ]
  },
  {
   "cell_type": "code",
   "execution_count": 63,
   "metadata": {},
   "outputs": [
    {
     "data": {
      "text/plain": [
       "0"
      ]
     },
     "execution_count": 63,
     "metadata": {},
     "output_type": "execute_result"
    }
   ],
   "source": [
    "#Check if availability_30 column has an missing values. I will use this columns for booking_ratio_30.\n",
    "df_lis['availability_30'].isnull().sum()"
   ]
  },
  {
   "cell_type": "code",
   "execution_count": 64,
   "metadata": {},
   "outputs": [],
   "source": [
    "#Below code, creates the column 'booking_ratio_30' which gives info about the booking percentage in the next 30 days\n",
    "df_lis['booking_ratio_30'] = 1 - (df_lis['availability_30']/30)"
   ]
  },
  {
   "cell_type": "code",
   "execution_count": 65,
   "metadata": {},
   "outputs": [
    {
     "data": {
      "text/plain": [
       "0    1.000000\n",
       "1    0.133333\n",
       "2    0.366667\n",
       "3    0.800000\n",
       "4    0.566667\n",
       "Name: booking_ratio_30, dtype: float64"
      ]
     },
     "execution_count": 65,
     "metadata": {},
     "output_type": "execute_result"
    }
   ],
   "source": [
    "#Show the first five rows of the new column\n",
    "df_lis['booking_ratio_30'].head()"
   ]
  },
  {
   "cell_type": "markdown",
   "metadata": {},
   "source": [
    "###  Above, I found a percantage on booking ratio of each listing. Now I will have to make seperate columns for each of the features that I will investige whether they attract the guests for choosing the listing to rent.\n",
    "\n",
    "#### First feature I would like to investigate is **room_type**."
   ]
  },
  {
   "cell_type": "code",
   "execution_count": 66,
   "metadata": {},
   "outputs": [
    {
     "data": {
      "text/plain": [
       "0"
      ]
     },
     "execution_count": 66,
     "metadata": {},
     "output_type": "execute_result"
    }
   ],
   "source": [
    "#Below code checks if the 'room_type' column has any missing values.\n",
    "#Since the result of the code is zero, the column does not have any missing values. \n",
    "df_lis['room_type'].isnull().sum()"
   ]
  },
  {
   "cell_type": "code",
   "execution_count": 67,
   "metadata": {},
   "outputs": [
    {
     "data": {
      "text/plain": [
       "Entire home/apt    2127\n",
       "Private room       1378\n",
       "Shared room          80\n",
       "Name: room_type, dtype: int64"
      ]
     },
     "execution_count": 67,
     "metadata": {},
     "output_type": "execute_result"
    }
   ],
   "source": [
    "#Below code shows the number of each unique values in the 'room_type' column.\n",
    "df_lis['room_type'].value_counts().sort_values(ascending=False)"
   ]
  },
  {
   "cell_type": "markdown",
   "metadata": {},
   "source": [
    "### Above, I found that there is not any missing values in the room_type column and also there are three different types of rooms. How about these different rooms booking ratios?"
   ]
  },
  {
   "cell_type": "markdown",
   "metadata": {},
   "source": [
    "## Analyze room type booking ratios"
   ]
  },
  {
   "cell_type": "code",
   "execution_count": 68,
   "metadata": {},
   "outputs": [
    {
     "data": {
      "text/plain": [
       "room_type\n",
       "Private room       0.739332\n",
       "Entire home/apt    0.699091\n",
       "Shared room        0.569583\n",
       "Name: booking_ratio_30, dtype: float64"
      ]
     },
     "execution_count": 68,
     "metadata": {},
     "output_type": "execute_result"
    }
   ],
   "source": [
    "#Below code shows information about booking ratios of different room types for next 30 days\n",
    "df_lis.groupby(['room_type'])['booking_ratio_30'].mean().sort_values(ascending=False)"
   ]
  },
  {
   "cell_type": "code",
   "execution_count": 69,
   "metadata": {},
   "outputs": [
    {
     "data": {
      "image/png": "[encoded data removed]",
      "text/plain": [
       "<Figure size 640x480 with 1 Axes>"
      ]
     },
     "metadata": {},
     "output_type": "display_data"
    }
   ],
   "source": [
    "#Below code plots a bar chart to visualize booking ratios of different room types for next 30 days\n",
    "(df_lis.groupby(['room_type'])['booking_ratio_30'].mean().sort_values(ascending=False)).plot(kind='bar', legend=None)\n",
    "plt.title('Booking Ratio for Next 30 Days Depending On room_type');\n",
    "plt.show()"
   ]
  },
  {
   "cell_type": "markdown",
   "metadata": {},
   "source": [
    "## Analyze property type booking ratios"
   ]
  },
  {
   "cell_type": "code",
   "execution_count": 70,
   "metadata": {},
   "outputs": [
    {
     "data": {
      "text/plain": [
       "Apartment          2612\n",
       "House               562\n",
       "Condominium         231\n",
       "Townhouse            54\n",
       "Bed & Breakfast      41\n",
       "Loft                 39\n",
       "Other                17\n",
       "Boat                 12\n",
       "Villa                 6\n",
       "Entire Floor          4\n",
       "Dorm                  2\n",
       "Guesthouse            1\n",
       "Camper/RV             1\n",
       "Name: property_type, dtype: int64"
      ]
     },
     "execution_count": 70,
     "metadata": {},
     "output_type": "execute_result"
    }
   ],
   "source": [
    "#Below code shows the unique property types and count of each one\n",
    "df_lis['property_type'].value_counts().sort_values(ascending=False)"
   ]
  },
  {
   "cell_type": "code",
   "execution_count": 71,
   "metadata": {},
   "outputs": [
    {
     "data": {
      "text/plain": [
       "property_type\n",
       "Villa              0.950000\n",
       "Camper/RV          0.866667\n",
       "Dorm               0.816667\n",
       "Loft               0.789744\n",
       "Condominium        0.769120\n",
       "Townhouse          0.722840\n",
       "Apartment          0.713846\n",
       "Bed & Breakfast    0.705691\n",
       "Entire Floor       0.683333\n",
       "House              0.682800\n",
       "Guesthouse         0.600000\n",
       "Other              0.576471\n",
       "Boat               0.241667\n",
       "Name: booking_ratio_30, dtype: float64"
      ]
     },
     "execution_count": 71,
     "metadata": {},
     "output_type": "execute_result"
    }
   ],
   "source": [
    "#Below code shows information about booking ratios of different property types for next 30 days\n",
    "df_lis.groupby(['property_type'])['booking_ratio_30'].mean().sort_values(ascending=False)"
   ]
  },
  {
   "cell_type": "code",
   "execution_count": 72,
   "metadata": {},
   "outputs": [
    {
     "data": {
      "image/png": "[encoded data removed]",
      "text/plain": [
       "<Figure size 640x480 with 1 Axes>"
      ]
     },
     "metadata": {},
     "output_type": "display_data"
    }
   ],
   "source": [
    "#Below code plots the booking ratios of different property types for next 30 days\n",
    "(df_lis.groupby(['property_type'])['booking_ratio_30'].mean().sort_values(ascending=False)).plot(kind='bar', legend=None)\n",
    "plt.title('Booking Ratio for Next 30 Days Depending On property_type');\n",
    "plt.show()"
   ]
  },
  {
   "cell_type": "markdown",
   "metadata": {},
   "source": [
    "### How about the **amenities** and their effect for attracting the guest? In order to answer the first question I had created the list of amenities which will be useful here to answer the second question."
   ]
  },
  {
   "cell_type": "code",
   "execution_count": 73,
   "metadata": {
    "scrolled": true
   },
   "outputs": [
    {
     "data": {
      "text/plain": [
       "0"
      ]
     },
     "execution_count": 73,
     "metadata": {},
     "output_type": "execute_result"
    }
   ],
   "source": [
    "#Check if amenities column has an missing values.\n",
    "df_lis['amenities'].isnull().sum()"
   ]
  },
  {
   "cell_type": "code",
   "execution_count": 74,
   "metadata": {},
   "outputs": [],
   "source": [
    "#Here I create new columns for each of the amenities and fill them all with zeros.\n",
    "for i in range(len(list_of_amenities)):\n",
    "    df_lis[list_of_amenities[i]] = 0"
   ]
  },
  {
   "cell_type": "markdown",
   "metadata": {},
   "source": [
    "*\"Below cell, takes about **3 minutes** to work on my machine.\"*"
   ]
  },
  {
   "cell_type": "code",
   "execution_count": 75,
   "metadata": {},
   "outputs": [],
   "source": [
    "#Here I fill the new amenities columns, by first checking if the listing has that amenity.\n",
    "#If the listing has that amenity I fill it with 1 and if it does not have it, I fill it with zero.\n",
    "for i in range(len(list_of_amenities)):\n",
    "    for t in range(len(df_lis)):\n",
    "        if list_of_amenities[i] in df_lis['amenities'][t]:\n",
    "            df_lis.loc[t , list_of_amenities[i]] = 1\n",
    "        else:\n",
    "            df_lis.loc[t , list_of_amenities[i]] = 0"
   ]
  },
  {
   "cell_type": "code",
   "execution_count": 76,
   "metadata": {},
   "outputs": [],
   "source": [
    "#Here I create a dataframe that will contain information about booking ratio of listings that contain the amenity.\n",
    "amenities_importance = pd.DataFrame(index=range(0,len(list_of_amenities)), columns = [\"Amenity_Name\", \"Booking Ratio for HAVING the Amenity\", \"Booking Ratio for NOT HAVING the Amenity\", \"Booking Difference\"])\n",
    "\n",
    "\n",
    "#In the below for loop, I write the name of the amenity, calculate the booking ratio of listings that contain the amenitiy\n",
    "#and calculate the booking ratio of listings that do not contain the amenitiy\n",
    "#and calculate the difference between booking ratios for each amenity. \n",
    "for i in range(len(list_of_amenities)):\n",
    "    amenities_importance['Amenity_Name'][i] = list_of_amenities[i]\n",
    "    amenities_importance['Booking Ratio for HAVING the Amenity'][i] = df_lis.groupby([list_of_amenities[i]])['booking_ratio_30'].mean()[1]\n",
    "    amenities_importance['Booking Ratio for NOT HAVING the Amenity'][i] = df_lis.groupby([list_of_amenities[i]])['booking_ratio_30'].mean()[0]\n",
    "    amenities_importance['Booking Difference'][i] = amenities_importance['Booking Ratio for HAVING the Amenity'][i] - amenities_importance['Booking Ratio for NOT HAVING the Amenity'][i]\n",
    "\n",
    "amenities_importance.set_index('Amenity_Name', inplace=True)"
   ]
  },
  {
   "cell_type": "code",
   "execution_count": 77,
   "metadata": {},
   "outputs": [
    {
     "data": {
      "text/html": [
       "<div>\n",
       "<style scoped>\n",
       "    .dataframe tbody tr th:only-of-type {\n",
       "        vertical-align: middle;\n",
       "    }\n",
       "\n",
       "    .dataframe tbody tr th {\n",
       "        vertical-align: top;\n",
       "    }\n",
       "\n",
       "    .dataframe thead th {\n",
       "        text-align: right;\n",
       "    }\n",
       "</style>\n",
       "<table border=\"1\" class=\"dataframe\">\n",
       "  <thead>\n",
       "    <tr style=\"text-align: right;\">\n",
       "      <th></th>\n",
       "      <th>Booking Ratio for HAVING the Amenity</th>\n",
       "      <th>Booking Ratio for NOT HAVING the Amenity</th>\n",
       "      <th>Booking Difference</th>\n",
       "    </tr>\n",
       "    <tr>\n",
       "      <th>Amenity_Name</th>\n",
       "      <th></th>\n",
       "      <th></th>\n",
       "      <th></th>\n",
       "    </tr>\n",
       "  </thead>\n",
       "  <tbody>\n",
       "    <tr>\n",
       "      <th>\"Smoke Detector\"</th>\n",
       "      <td>0.741028</td>\n",
       "      <td>0.584866</td>\n",
       "      <td>0.156162</td>\n",
       "    </tr>\n",
       "    <tr>\n",
       "      <th>\"translation missing: en.hosting_amenity_49\"</th>\n",
       "      <td>0.777402</td>\n",
       "      <td>0.702377</td>\n",
       "      <td>0.075025</td>\n",
       "    </tr>\n",
       "    <tr>\n",
       "      <th>\"Buzzer/Wireless Intercom\"</th>\n",
       "      <td>0.762376</td>\n",
       "      <td>0.696176</td>\n",
       "      <td>0.0662</td>\n",
       "    </tr>\n",
       "    <tr>\n",
       "      <th>\"Fire Extinguisher\"</th>\n",
       "      <td>0.748335</td>\n",
       "      <td>0.682709</td>\n",
       "      <td>0.065626</td>\n",
       "    </tr>\n",
       "    <tr>\n",
       "      <th>\"Carbon Monoxide Detector\"</th>\n",
       "      <td>0.731791</td>\n",
       "      <td>0.668679</td>\n",
       "      <td>0.063112</td>\n",
       "    </tr>\n",
       "    <tr>\n",
       "      <th>\"Wireless Internet\"</th>\n",
       "      <td>0.714362</td>\n",
       "      <td>0.655488</td>\n",
       "      <td>0.058874</td>\n",
       "    </tr>\n",
       "    <tr>\n",
       "      <th>\"Hot Tub\"</th>\n",
       "      <td>0.763872</td>\n",
       "      <td>0.709118</td>\n",
       "      <td>0.054754</td>\n",
       "    </tr>\n",
       "    <tr>\n",
       "      <th>\"Other pet(s)\"</th>\n",
       "      <td>0.760417</td>\n",
       "      <td>0.71145</td>\n",
       "      <td>0.048966</td>\n",
       "    </tr>\n",
       "    <tr>\n",
       "      <th>\"Lock on Bedroom Door\"</th>\n",
       "      <td>0.752602</td>\n",
       "      <td>0.705432</td>\n",
       "      <td>0.04717</td>\n",
       "    </tr>\n",
       "    <tr>\n",
       "      <th>\"Suitable for Events\"</th>\n",
       "      <td>0.747101</td>\n",
       "      <td>0.71025</td>\n",
       "      <td>0.036851</td>\n",
       "    </tr>\n",
       "  </tbody>\n",
       "</table>\n",
       "</div>"
      ],
      "text/plain": [
       "                                             Booking Ratio for HAVING the Amenity  \\\n",
       "Amenity_Name                                                                        \n",
       "\"Smoke Detector\"                                                         0.741028   \n",
       "\"translation missing: en.hosting_amenity_49\"                             0.777402   \n",
       "\"Buzzer/Wireless Intercom\"                                               0.762376   \n",
       "\"Fire Extinguisher\"                                                      0.748335   \n",
       "\"Carbon Monoxide Detector\"                                               0.731791   \n",
       "\"Wireless Internet\"                                                      0.714362   \n",
       "\"Hot Tub\"                                                                0.763872   \n",
       "\"Other pet(s)\"                                                           0.760417   \n",
       "\"Lock on Bedroom Door\"                                                   0.752602   \n",
       "\"Suitable for Events\"                                                    0.747101   \n",
       "\n",
       "                                             Booking Ratio for NOT HAVING the Amenity  \\\n",
       "Amenity_Name                                                                            \n",
       "\"Smoke Detector\"                                                             0.584866   \n",
       "\"translation missing: en.hosting_amenity_49\"                                 0.702377   \n",
       "\"Buzzer/Wireless Intercom\"                                                   0.696176   \n",
       "\"Fire Extinguisher\"                                                          0.682709   \n",
       "\"Carbon Monoxide Detector\"                                                   0.668679   \n",
       "\"Wireless Internet\"                                                          0.655488   \n",
       "\"Hot Tub\"                                                                    0.709118   \n",
       "\"Other pet(s)\"                                                                0.71145   \n",
       "\"Lock on Bedroom Door\"                                                       0.705432   \n",
       "\"Suitable for Events\"                                                         0.71025   \n",
       "\n",
       "                                             Booking Difference  \n",
       "Amenity_Name                                                     \n",
       "\"Smoke Detector\"                                       0.156162  \n",
       "\"translation missing: en.hosting_amenity_49\"           0.075025  \n",
       "\"Buzzer/Wireless Intercom\"                               0.0662  \n",
       "\"Fire Extinguisher\"                                    0.065626  \n",
       "\"Carbon Monoxide Detector\"                             0.063112  \n",
       "\"Wireless Internet\"                                    0.058874  \n",
       "\"Hot Tub\"                                              0.054754  \n",
       "\"Other pet(s)\"                                         0.048966  \n",
       "\"Lock on Bedroom Door\"                                  0.04717  \n",
       "\"Suitable for Events\"                                  0.036851  "
      ]
     },
     "execution_count": 77,
     "metadata": {},
     "output_type": "execute_result"
    }
   ],
   "source": [
    "#Here I list the Top 10 booking difference to see which amenities are most prefered by guests.\n",
    "amenities_importance.sort_values(by='Booking Difference', ascending = False)[:10]"
   ]
  },
  {
   "cell_type": "code",
   "execution_count": 78,
   "metadata": {
    "scrolled": true
   },
   "outputs": [
    {
     "data": {
      "image/png": "[encoded data removed]",
      "text/plain": [
       "<Figure size 640x480 with 1 Axes>"
      ]
     },
     "metadata": {},
     "output_type": "display_data"
    }
   ],
   "source": [
    "#Here I draw a bar chart to visualize which amenities are most prefered by guests.\n",
    "amenities_importance['Booking Difference'].sort_values(ascending = False)[:10].plot(kind='bar', legend=None)\n",
    "plt.title('Most Popular Amenities');\n",
    "plt.ylabel('Booking Ratio Difference for Next 30 Days')\n",
    "plt.show()"
   ]
  },
  {
   "cell_type": "code",
   "execution_count": 79,
   "metadata": {},
   "outputs": [
    {
     "data": {
      "image/png": "[encoded data removed]",
      "text/plain": [
       "<Figure size 640x480 with 1 Axes>"
      ]
     },
     "metadata": {},
     "output_type": "display_data"
    }
   ],
   "source": [
    "#Here I draw a bar chart to visualize which amenities are least prefered by guests.\n",
    "amenities_importance['Booking Difference'].sort_values(ascending = True)[:10].plot(kind='bar', legend=None)\n",
    "plt.title('Least Popular Amenities');\n",
    "plt.ylabel('Booking Ratio Difference for Next 30 Days')\n",
    "plt.show()"
   ]
  },
  {
   "cell_type": "markdown",
   "metadata": {},
   "source": [
    "## For Question-2: Factors Attracting Guests\n",
    "### The investigation aimed to determine the factors influencing guests' decisions when choosing a property to rent. This analysis involved exploring various features such as room type, property type, and amenities. Key findings include:\n",
    "\n",
    "### Entire home/apartment listings tend to be more popular than private or shared rooms.\n",
    "### Certain amenities like Washer/Dryer, Kitchen, and Pets Allowed positively influence booking rates, while amenities like Pool and Breakfast have less impact.\n",
    "### The analysis also highlighted differences in booking ratios based on different room and property types"
   ]
  },
  {
   "cell_type": "markdown",
   "metadata": {},
   "source": [
    "## Question-3\n",
    "\n",
    "There are so many features in the dataset, that has effect on the price of the listing. In the third question I would like to train a model to estimate the price of a listing. So the question I would like to answer is: How can we estimate the price of a listing, what are the most influencial features of the dataset to estimate the price of a listing."
   ]
  },
  {
   "cell_type": "markdown",
   "metadata": {},
   "source": [
    "###  First I would like to know about the number of missing values in the features that are related to price."
   ]
  },
  {
   "cell_type": "code",
   "execution_count": 80,
   "metadata": {},
   "outputs": [
    {
     "name": "stdout",
     "output_type": "stream",
     "text": [
      "0\n",
      "2693\n",
      "2697\n",
      "2243\n",
      "1107\n"
     ]
    }
   ],
   "source": [
    "print(df_lis['price'].isnull().sum())\n",
    "print(df_lis['weekly_price'].isnull().sum())\n",
    "print(df_lis['monthly_price'].isnull().sum())\n",
    "print(df_lis['security_deposit'].isnull().sum())\n",
    "print(df_lis['cleaning_fee'].isnull().sum())"
   ]
  },
  {
   "cell_type": "markdown",
   "metadata": {},
   "source": [
    "### There are five different prices in the dataset, which are listed below.\n",
    "- price\n",
    "- weekly_price\n",
    "- monthly_price\n",
    "- security_deposit\n",
    "- cleaning_fee\n",
    "\n",
    "In the code cell above, I find the number of null values in each column. As can be seen, some of the listings do not have weekly or monthly price. So it is a better idea to model the \"price\" because of larger sample size.\n",
    "I will not take into account the security deposit and cleaning fee."
   ]
  },
  {
   "cell_type": "code",
   "execution_count": 81,
   "metadata": {},
   "outputs": [],
   "source": [
    "#Below, I made a list of important features in my opinion for estimating the price of a listing and created\n",
    "#a sub-dataframe of listings dataframe.\n",
    "\n",
    "#In order to answer the first question, I made columns for amenities categorical value, I will use all amenities columns\n",
    "#I created there.\n",
    "\n",
    "features_of_interest = ['bathrooms', 'bedrooms', 'beds', 'latitude', 'longitude', 'square_feet', 'reviews_per_month',\n",
    "        'booking_ratio_30', 'accommodates', 'guests_included', '\"24-Hour Check-in\"', '\"Suitable for Events\"',\n",
    "       '\"Pets live on this property\"', 'Dog(s)', '\"Smoking Allowed\"',\n",
    "       '\"Other pet(s)\"', 'Essentials', '\"Wireless Internet\"',\n",
    "       '\"Buzzer/Wireless Intercom\"', 'TV', 'Gym', 'Washer', 'Doorman', 'Dryer',\n",
    "       '\"Hot Tub\"', '\"Air Conditioning\"', '\"Pets Allowed\"', 'Pool',\n",
    "       '\"Hair Dryer\"', '\"Fire Extinguisher\"', 'Breakfast', '\"Washer / Dryer\"',\n",
    "       '\"Laptop Friendly Workspace\"', '\"Free Parking on Premises\"',\n",
    "       '\"Lock on Bedroom Door\"', 'Cat(s)', 'Hangers', '\"Family/Kid Friendly\"',\n",
    "       '\"Carbon Monoxide Detector\"', '\"Safety Card\"', 'Kitchen',\n",
    "       '\"Elevator in Building\"', 'Internet', 'Shampoo', '\"Smoke Detector\"',\n",
    "       '\"Wheelchair Accessible\"', 'Iron', '\"First Aid Kit\"',\n",
    "       '\"Indoor Fireplace\"', '\"Cable TV\"', 'Heating', 'host_is_superhost', 'neighbourhood_group_cleansed',\n",
    "        'property_type','room_type','bed_type','price','security_deposit',\n",
    "        'cleaning_fee', 'extra_people', 'instant_bookable', 'cancellation_policy']\n",
    "\n",
    "df_lis_ml = df_lis[features_of_interest]"
   ]
  },
  {
   "cell_type": "code",
   "execution_count": 82,
   "metadata": {},
   "outputs": [
    {
     "data": {
      "text/plain": [
       "bathrooms                         14\n",
       "bedrooms                          10\n",
       "beds                               9\n",
       "square_feet                     3529\n",
       "reviews_per_month                756\n",
       "neighbourhood_group_cleansed    3585\n",
       "property_type                      3\n",
       "security_deposit                2243\n",
       "cleaning_fee                    1107\n",
       "dtype: int64"
      ]
     },
     "execution_count": 82,
     "metadata": {},
     "output_type": "execute_result"
    }
   ],
   "source": [
    "#Now lets check the missing values in each columns and find a way to fill them.\n",
    "\n",
    "df_lis_ml.isnull().sum()[df_lis_ml.isnull().sum()>0]"
   ]
  },
  {
   "cell_type": "markdown",
   "metadata": {},
   "source": [
    "### There are only 9 columns that have missing values. Here is the strategy that I have for filling each of the columns:\n",
    "- Almost all of **square_feet** are missing. So I decided to drop that columns since I have columns like beds, bedrooms and bathrooms columns that can replace the square_feet.\n",
    "- bathrooms, bedrooms and beds have very few missing values. reviews_per_month also has some missing values. Since all these columns are float, I will fill the missing values with the mean of that column.\n",
    "- host_is_superhost and property_type are categorical columns so for filling the missing values (which are very few) I will use the mode.\n",
    "- security_deposit and cleaning_fee have object data type. I will change this later but for now I want to fill the missing values. The missing values here most probably mean they are equal to zero, so I will fill them with zero."
   ]
  },
  {
   "cell_type": "code",
   "execution_count": 83,
   "metadata": {},
   "outputs": [],
   "source": [
    "#Here I drop the 'square_feet' column since there are many missing values and\n",
    "#columns like beds, bedrooms and bathrooms columns that can replace the square_feet\n",
    "\n",
    "df_lis_ml = df_lis_ml.drop(columns='square_feet')"
   ]
  },
  {
   "cell_type": "code",
   "execution_count": 84,
   "metadata": {},
   "outputs": [],
   "source": [
    "#Below, I replace the missing values of 4 features (bathrooms, bedrooms, beds and reviews_per_month) with\n",
    "#mean values of each feature in the dataset.\n",
    "\n",
    "df_lis_ml['bathrooms'].fillna(df_lis_ml['bathrooms'].mean(), inplace=True)\n",
    "df_lis_ml['bedrooms'].fillna(df_lis_ml['bedrooms'].mean(), inplace=True)\n",
    "df_lis_ml['beds'].fillna(df_lis_ml['beds'].mean(), inplace=True)\n",
    "df_lis_ml['reviews_per_month'].fillna(df_lis_ml['reviews_per_month'].mean(), inplace=True)"
   ]
  },
  {
   "cell_type": "code",
   "execution_count": 85,
   "metadata": {},
   "outputs": [],
   "source": [
    "#Below, I replace the missing values of 2 features (host_is_superhost and property_type) with\n",
    "#mode values (most common) of each feature in the dataset.\n",
    "\n",
    "df_lis_ml['host_is_superhost'].fillna(df_lis_ml['host_is_superhost'].mode()[0], inplace=True)\n",
    "df_lis_ml['property_type'].fillna(df_lis_ml['property_type'].mode()[0], inplace=True)"
   ]
  },
  {
   "cell_type": "code",
   "execution_count": 86,
   "metadata": {},
   "outputs": [],
   "source": [
    "#Below, I replace the missing values of 2 features (security_deposit and cleaning_fee) with zeros.\n",
    "#The missing values in these features most probably mean they are equal to zero\n",
    "\n",
    "df_lis_ml['security_deposit'].fillna(0, inplace=True)\n",
    "df_lis_ml['cleaning_fee'].fillna(0, inplace=True)"
   ]
  },
  {
   "cell_type": "markdown",
   "metadata": {},
   "source": [
    "### Now I will check the datatypes, make necessary changes for the datatypes. Also I will have to make new columns for categorical columns."
   ]
  },
  {
   "cell_type": "code",
   "execution_count": 87,
   "metadata": {},
   "outputs": [
    {
     "data": {
      "text/plain": [
       "bathrooms                       float64\n",
       "bedrooms                        float64\n",
       "beds                            float64\n",
       "latitude                        float64\n",
       "longitude                       float64\n",
       "reviews_per_month               float64\n",
       "booking_ratio_30                float64\n",
       "accommodates                      int64\n",
       "guests_included                   int64\n",
       "\"24-Hour Check-in\"                int64\n",
       "\"Suitable for Events\"             int64\n",
       "\"Pets live on this property\"      int64\n",
       "Dog(s)                            int64\n",
       "\"Smoking Allowed\"                 int64\n",
       "\"Other pet(s)\"                    int64\n",
       "Essentials                        int64\n",
       "\"Wireless Internet\"               int64\n",
       "\"Buzzer/Wireless Intercom\"        int64\n",
       "TV                                int64\n",
       "Gym                               int64\n",
       "Washer                            int64\n",
       "Doorman                           int64\n",
       "Dryer                             int64\n",
       "\"Hot Tub\"                         int64\n",
       "\"Air Conditioning\"                int64\n",
       "\"Pets Allowed\"                    int64\n",
       "Pool                              int64\n",
       "\"Hair Dryer\"                      int64\n",
       "\"Fire Extinguisher\"               int64\n",
       "Breakfast                         int64\n",
       "\"Washer / Dryer\"                  int64\n",
       "\"Laptop Friendly Workspace\"       int64\n",
       "\"Free Parking on Premises\"        int64\n",
       "\"Lock on Bedroom Door\"            int64\n",
       "Cat(s)                            int64\n",
       "Hangers                           int64\n",
       "\"Family/Kid Friendly\"             int64\n",
       "\"Carbon Monoxide Detector\"        int64\n",
       "\"Safety Card\"                     int64\n",
       "Kitchen                           int64\n",
       "\"Elevator in Building\"            int64\n",
       "Internet                          int64\n",
       "Shampoo                           int64\n",
       "\"Smoke Detector\"                  int64\n",
       "\"Wheelchair Accessible\"           int64\n",
       "Iron                              int64\n",
       "\"First Aid Kit\"                   int64\n",
       "\"Indoor Fireplace\"                int64\n",
       "\"Cable TV\"                        int64\n",
       "Heating                           int64\n",
       "host_is_superhost                object\n",
       "neighbourhood_group_cleansed    float64\n",
       "property_type                    object\n",
       "room_type                        object\n",
       "bed_type                         object\n",
       "price                            object\n",
       "security_deposit                 object\n",
       "cleaning_fee                     object\n",
       "extra_people                     object\n",
       "instant_bookable                 object\n",
       "cancellation_policy              object\n",
       "dtype: object"
      ]
     },
     "execution_count": 87,
     "metadata": {},
     "output_type": "execute_result"
    }
   ],
   "source": [
    "df_lis_ml.dtypes"
   ]
  },
  {
   "cell_type": "markdown",
   "metadata": {},
   "source": [
    "### The following columns have to change from object to float:\n",
    "- price\n",
    "- security_deposit\n",
    "- cleaning_fee"
   ]
  },
  {
   "cell_type": "code",
   "execution_count": 88,
   "metadata": {},
   "outputs": [
    {
     "name": "stderr",
     "output_type": "stream",
     "text": [
      "C:\\Users\\msmoh\\AppData\\Local\\Temp\\ipykernel_33940\\1107830173.py:3: FutureWarning: The default value of regex will change from True to False in a future version. In addition, single character regular expressions will *not* be treated as literal strings when regex=True.\n",
      "  df_lis_ml['price'] = df_lis_ml['price'].str.replace('$', '')\n",
      "C:\\Users\\msmoh\\AppData\\Local\\Temp\\ipykernel_33940\\1107830173.py:4: FutureWarning: The default value of regex will change from True to False in a future version. In addition, single character regular expressions will *not* be treated as literal strings when regex=True.\n",
      "  df_lis_ml['security_deposit'] = df_lis_ml['security_deposit'].str.replace('$', '')\n",
      "C:\\Users\\msmoh\\AppData\\Local\\Temp\\ipykernel_33940\\1107830173.py:5: FutureWarning: The default value of regex will change from True to False in a future version. In addition, single character regular expressions will *not* be treated as literal strings when regex=True.\n",
      "  df_lis_ml['cleaning_fee'] = df_lis_ml['cleaning_fee'].str.replace('$', '')\n",
      "C:\\Users\\msmoh\\AppData\\Local\\Temp\\ipykernel_33940\\1107830173.py:6: FutureWarning: The default value of regex will change from True to False in a future version. In addition, single character regular expressions will *not* be treated as literal strings when regex=True.\n",
      "  df_lis_ml['extra_people'] = df_lis_ml['extra_people'].str.replace('$', '')\n"
     ]
    }
   ],
   "source": [
    "#In the columns that have information about price, the $ signs and (comma) signs has to be removed. \n",
    "\n",
    "df_lis_ml['price'] = df_lis_ml['price'].str.replace('$', '')\n",
    "df_lis_ml['security_deposit'] = df_lis_ml['security_deposit'].str.replace('$', '')\n",
    "df_lis_ml['cleaning_fee'] = df_lis_ml['cleaning_fee'].str.replace('$', '')\n",
    "df_lis_ml['extra_people'] = df_lis_ml['extra_people'].str.replace('$', '')\n",
    "\n",
    "df_lis_ml['price'] = df_lis_ml['price'].str.replace(',', '')\n",
    "df_lis_ml['security_deposit'] = df_lis_ml['security_deposit'].str.replace(',', '')\n",
    "df_lis_ml['cleaning_fee'] = df_lis_ml['cleaning_fee'].str.replace(',', '')\n",
    "df_lis_ml['extra_people'] = df_lis_ml['extra_people'].str.replace(',', '')\n",
    "\n",
    "#Removing $ and , signs made 0 (zero) values NaN again. So I have to fillna with 0 again. \n",
    "df_lis_ml['security_deposit'].fillna(0, inplace=True)\n",
    "df_lis_ml['cleaning_fee'].fillna(0, inplace=True)"
   ]
  },
  {
   "cell_type": "code",
   "execution_count": 89,
   "metadata": {},
   "outputs": [],
   "source": [
    "#Changing data type from string to float.\n",
    "df_lis_ml['price'] = df_lis_ml['price'].astype(float)\n",
    "df_lis_ml['security_deposit'] = df_lis_ml['security_deposit'].astype(float)\n",
    "df_lis_ml['cleaning_fee'] = df_lis_ml['cleaning_fee'].astype(float)\n",
    "df_lis_ml['extra_people'] = df_lis_ml['extra_people'].astype(float)"
   ]
  },
  {
   "cell_type": "code",
   "execution_count": 90,
   "metadata": {
    "scrolled": true
   },
   "outputs": [],
   "source": [
    "#creating a new dataframe which is a subset of categorical columns of out df_lis_ml dataframe\n",
    "cat_cols = df_lis_ml.select_dtypes(include=['object'])"
   ]
  },
  {
   "cell_type": "code",
   "execution_count": 91,
   "metadata": {},
   "outputs": [
    {
     "data": {
      "text/html": [
       "<div>\n",
       "<style scoped>\n",
       "    .dataframe tbody tr th:only-of-type {\n",
       "        vertical-align: middle;\n",
       "    }\n",
       "\n",
       "    .dataframe tbody tr th {\n",
       "        vertical-align: top;\n",
       "    }\n",
       "\n",
       "    .dataframe thead th {\n",
       "        text-align: right;\n",
       "    }\n",
       "</style>\n",
       "<table border=\"1\" class=\"dataframe\">\n",
       "  <thead>\n",
       "    <tr style=\"text-align: right;\">\n",
       "      <th></th>\n",
       "      <th>host_is_superhost</th>\n",
       "      <th>property_type</th>\n",
       "      <th>room_type</th>\n",
       "      <th>bed_type</th>\n",
       "      <th>instant_bookable</th>\n",
       "      <th>cancellation_policy</th>\n",
       "    </tr>\n",
       "  </thead>\n",
       "  <tbody>\n",
       "    <tr>\n",
       "      <th>0</th>\n",
       "      <td>f</td>\n",
       "      <td>House</td>\n",
       "      <td>Entire home/apt</td>\n",
       "      <td>Real Bed</td>\n",
       "      <td>f</td>\n",
       "      <td>moderate</td>\n",
       "    </tr>\n",
       "    <tr>\n",
       "      <th>1</th>\n",
       "      <td>f</td>\n",
       "      <td>Apartment</td>\n",
       "      <td>Private room</td>\n",
       "      <td>Real Bed</td>\n",
       "      <td>t</td>\n",
       "      <td>moderate</td>\n",
       "    </tr>\n",
       "    <tr>\n",
       "      <th>2</th>\n",
       "      <td>t</td>\n",
       "      <td>Apartment</td>\n",
       "      <td>Private room</td>\n",
       "      <td>Real Bed</td>\n",
       "      <td>f</td>\n",
       "      <td>moderate</td>\n",
       "    </tr>\n",
       "    <tr>\n",
       "      <th>3</th>\n",
       "      <td>f</td>\n",
       "      <td>House</td>\n",
       "      <td>Private room</td>\n",
       "      <td>Real Bed</td>\n",
       "      <td>f</td>\n",
       "      <td>moderate</td>\n",
       "    </tr>\n",
       "    <tr>\n",
       "      <th>4</th>\n",
       "      <td>t</td>\n",
       "      <td>House</td>\n",
       "      <td>Private room</td>\n",
       "      <td>Real Bed</td>\n",
       "      <td>f</td>\n",
       "      <td>flexible</td>\n",
       "    </tr>\n",
       "  </tbody>\n",
       "</table>\n",
       "</div>"
      ],
      "text/plain": [
       "  host_is_superhost property_type        room_type  bed_type instant_bookable  \\\n",
       "0                 f         House  Entire home/apt  Real Bed                f   \n",
       "1                 f     Apartment     Private room  Real Bed                t   \n",
       "2                 t     Apartment     Private room  Real Bed                f   \n",
       "3                 f         House     Private room  Real Bed                f   \n",
       "4                 t         House     Private room  Real Bed                f   \n",
       "\n",
       "  cancellation_policy  \n",
       "0            moderate  \n",
       "1            moderate  \n",
       "2            moderate  \n",
       "3            moderate  \n",
       "4            flexible  "
      ]
     },
     "execution_count": 91,
     "metadata": {},
     "output_type": "execute_result"
    }
   ],
   "source": [
    "cat_cols.head()"
   ]
  },
  {
   "cell_type": "code",
   "execution_count": 92,
   "metadata": {},
   "outputs": [],
   "source": [
    "# Making new columns from categorical variables in order to use these features in ML regression algoritm.\n",
    "for col in cat_cols:\n",
    "    try:\n",
    "        df_lis_ml = pd.concat([df_lis_ml.drop(col, axis=1), pd.get_dummies(df_lis_ml[col], prefix=col, prefix_sep='_', drop_first=True)], axis=1)\n",
    "    except:\n",
    "        continue"
   ]
  },
  {
   "cell_type": "markdown",
   "metadata": {},
   "source": [
    "### Since I made the data ready, I will try Linear Regression to estimate price depending on features I selected."
   ]
  },
  {
   "cell_type": "code",
   "execution_count": 93,
   "metadata": {},
   "outputs": [],
   "source": [
    "#Creating the X (feautures) and y (the variable to be modelled) dataframes\n",
    "y = df_lis_ml['price']\n",
    "X = df_lis_ml.drop(columns='price')"
   ]
  },
  {
   "cell_type": "code",
   "execution_count": null,
   "metadata": {},
   "outputs": [],
   "source": []
  },
  {
   "cell_type": "code",
   "execution_count": 94,
   "metadata": {},
   "outputs": [],
   "source": [
    "#Splitting the new dataframes into train and test dataframes\n",
    "X_train, X_test, y_train, y_test = train_test_split(X, y, test_size = 0.2, random_state=42)"
   ]
  },
  {
   "cell_type": "code",
   "execution_count": 95,
   "metadata": {
    "scrolled": true
   },
   "outputs": [
    {
     "name": "stdout",
     "output_type": "stream",
     "text": [
      "0.22596990093422287\n"
     ]
    },
    {
     "name": "stderr",
     "output_type": "stream",
     "text": [
      "C:\\Users\\msmoh\\anaconda3\\Lib\\site-packages\\sklearn\\impute\\_base.py:577: UserWarning: Skipping features without any observed values: ['neighbourhood_group_cleansed']. At least one non-missing value is needed for imputation with strategy='mean'.\n",
      "  warnings.warn(\n",
      "C:\\Users\\msmoh\\anaconda3\\Lib\\site-packages\\sklearn\\impute\\_base.py:577: UserWarning: Skipping features without any observed values: ['neighbourhood_group_cleansed']. At least one non-missing value is needed for imputation with strategy='mean'.\n",
      "  warnings.warn(\n"
     ]
    }
   ],
   "source": [
    "from sklearn.impute import SimpleImputer\n",
    "\n",
    "# Impute missing values with mean\n",
    "imputer = SimpleImputer(strategy='mean')\n",
    "X_train_imputed = imputer.fit_transform(X_train)\n",
    "X_test_imputed = imputer.transform(X_test)\n",
    "\n",
    "# Fit the linear regression model\n",
    "lm_model = LinearRegression()\n",
    "lm_model.fit(X_train_imputed, y_train)\n",
    "\n",
    "# Make predictions with the test set\n",
    "y_test_preds = lm_model.predict(X_test_imputed)\n",
    "\n",
    "# Score the success of the model\n",
    "test_score = r2_score(y_test, y_test_preds)\n",
    "print(test_score)\n"
   ]
  },
  {
   "cell_type": "markdown",
   "metadata": {},
   "source": [
    "## The r-squared value of my model is 0.225 which is not too high."
   ]
  },
  {
   "cell_type": "markdown",
   "metadata": {},
   "source": [
    "I want to investigate about the coefficients of my model. Below function is taken from one of the Udacity jupyter notebook examples. I used this code to see coefficients of my model."
   ]
  },
  {
   "cell_type": "code",
   "execution_count": 97,
   "metadata": {},
   "outputs": [],
   "source": [
    "import numpy as np\n",
    "\n",
    "def coef_weights(coefficients, X_train):\n",
    "    '''\n",
    "    INPUT:\n",
    "    coefficients - the coefficients of the linear model \n",
    "    X_train - the training data, so the column names can be used\n",
    "    OUTPUT:\n",
    "    coefs_df - a dataframe holding the coefficient, estimate, and abs(estimate)\n",
    "    \n",
    "    Provides a dataframe that can be used to understand the most influential coefficients\n",
    "    in a linear model by providing the coefficient estimates along with the name of the \n",
    "    variable attached to the coefficient.\n",
    "    '''\n",
    "    # Add an intercept term\n",
    "    intercept = pd.Series(['Intercept'], index=['Intercept'])\n",
    "    coefficients = np.insert(coefficients, 0, lm_model.intercept_)\n",
    "    \n",
    "    coefs_df = pd.DataFrame()\n",
    "    coefs_df['est_int'] = X_train.columns\n",
    "    coefs_df['coefs'] = coefficients\n",
    "    coefs_df['abs_coefs'] = np.abs(coefficients)\n",
    "    coefs_df = coefs_df.sort_values('abs_coefs', ascending=False)\n",
    "    return coefs_df\n",
    "\n",
    "# Use the function\n",
    "coef_df = coef_weights(lm_model.coef_, X_train)\n"
   ]
  },
  {
   "cell_type": "markdown",
   "metadata": {},
   "source": [
    "### Below is the list features that are the most influential coefficients. "
   ]
  },
  {
   "cell_type": "code",
   "execution_count": 98,
   "metadata": {},
   "outputs": [
    {
     "data": {
      "text/html": [
       "<div>\n",
       "<style scoped>\n",
       "    .dataframe tbody tr th:only-of-type {\n",
       "        vertical-align: middle;\n",
       "    }\n",
       "\n",
       "    .dataframe tbody tr th {\n",
       "        vertical-align: top;\n",
       "    }\n",
       "\n",
       "    .dataframe thead th {\n",
       "        text-align: right;\n",
       "    }\n",
       "</style>\n",
       "<table border=\"1\" class=\"dataframe\">\n",
       "  <thead>\n",
       "    <tr style=\"text-align: right;\">\n",
       "      <th></th>\n",
       "      <th>est_int</th>\n",
       "      <th>coefs</th>\n",
       "      <th>abs_coefs</th>\n",
       "    </tr>\n",
       "  </thead>\n",
       "  <tbody>\n",
       "    <tr>\n",
       "      <th>0</th>\n",
       "      <td>bathrooms</td>\n",
       "      <td>-4815.190847</td>\n",
       "      <td>4815.190847</td>\n",
       "    </tr>\n",
       "    <tr>\n",
       "      <th>4</th>\n",
       "      <td>longitude</td>\n",
       "      <td>524.877878</td>\n",
       "      <td>524.877878</td>\n",
       "    </tr>\n",
       "    <tr>\n",
       "      <th>5</th>\n",
       "      <td>reviews_per_month</td>\n",
       "      <td>243.387310</td>\n",
       "      <td>243.387310</td>\n",
       "    </tr>\n",
       "    <tr>\n",
       "      <th>31</th>\n",
       "      <td>\"Laptop Friendly Workspace\"</td>\n",
       "      <td>138.339601</td>\n",
       "      <td>138.339601</td>\n",
       "    </tr>\n",
       "    <tr>\n",
       "      <th>57</th>\n",
       "      <td>property_type_Camper/RV</td>\n",
       "      <td>-115.087907</td>\n",
       "      <td>115.087907</td>\n",
       "    </tr>\n",
       "    <tr>\n",
       "      <th>76</th>\n",
       "      <td>cancellation_policy_super_strict_30</td>\n",
       "      <td>87.391213</td>\n",
       "      <td>87.391213</td>\n",
       "    </tr>\n",
       "    <tr>\n",
       "      <th>68</th>\n",
       "      <td>room_type_Shared room</td>\n",
       "      <td>-64.174186</td>\n",
       "      <td>64.174186</td>\n",
       "    </tr>\n",
       "    <tr>\n",
       "      <th>67</th>\n",
       "      <td>room_type_Private room</td>\n",
       "      <td>-62.333300</td>\n",
       "      <td>62.333300</td>\n",
       "    </tr>\n",
       "    <tr>\n",
       "      <th>22</th>\n",
       "      <td>Dryer</td>\n",
       "      <td>53.066911</td>\n",
       "      <td>53.066911</td>\n",
       "    </tr>\n",
       "    <tr>\n",
       "      <th>15</th>\n",
       "      <td>Essentials</td>\n",
       "      <td>-46.644780</td>\n",
       "      <td>46.644780</td>\n",
       "    </tr>\n",
       "    <tr>\n",
       "      <th>60</th>\n",
       "      <td>property_type_Entire Floor</td>\n",
       "      <td>-40.859021</td>\n",
       "      <td>40.859021</td>\n",
       "    </tr>\n",
       "    <tr>\n",
       "      <th>66</th>\n",
       "      <td>property_type_Villa</td>\n",
       "      <td>30.373101</td>\n",
       "      <td>30.373101</td>\n",
       "    </tr>\n",
       "    <tr>\n",
       "      <th>2</th>\n",
       "      <td>beds</td>\n",
       "      <td>30.099531</td>\n",
       "      <td>30.099531</td>\n",
       "    </tr>\n",
       "    <tr>\n",
       "      <th>27</th>\n",
       "      <td>\"Hair Dryer\"</td>\n",
       "      <td>-29.898525</td>\n",
       "      <td>29.898525</td>\n",
       "    </tr>\n",
       "    <tr>\n",
       "      <th>13</th>\n",
       "      <td>\"Smoking Allowed\"</td>\n",
       "      <td>27.606069</td>\n",
       "      <td>27.606069</td>\n",
       "    </tr>\n",
       "  </tbody>\n",
       "</table>\n",
       "</div>"
      ],
      "text/plain": [
       "                                est_int        coefs    abs_coefs\n",
       "0                             bathrooms -4815.190847  4815.190847\n",
       "4                             longitude   524.877878   524.877878\n",
       "5                     reviews_per_month   243.387310   243.387310\n",
       "31          \"Laptop Friendly Workspace\"   138.339601   138.339601\n",
       "57              property_type_Camper/RV  -115.087907   115.087907\n",
       "76  cancellation_policy_super_strict_30    87.391213    87.391213\n",
       "68                room_type_Shared room   -64.174186    64.174186\n",
       "67               room_type_Private room   -62.333300    62.333300\n",
       "22                                Dryer    53.066911    53.066911\n",
       "15                           Essentials   -46.644780    46.644780\n",
       "60           property_type_Entire Floor   -40.859021    40.859021\n",
       "66                  property_type_Villa    30.373101    30.373101\n",
       "2                                  beds    30.099531    30.099531\n",
       "27                         \"Hair Dryer\"   -29.898525    29.898525\n",
       "13                    \"Smoking Allowed\"    27.606069    27.606069"
      ]
     },
     "execution_count": 98,
     "metadata": {},
     "output_type": "execute_result"
    }
   ],
   "source": [
    "coef_df.head(15)"
   ]
  },
  {
   "cell_type": "markdown",
   "metadata": {},
   "source": [
    "### In order to increase r-squared value I will use SelectKBest.\n",
    "Below I write a function that tests different \"k\" numbers and compare r-squared for each k value."
   ]
  },
  {
   "cell_type": "code",
   "execution_count": 99,
   "metadata": {},
   "outputs": [],
   "source": [
    "def find_optimal_number_of_selectors(X, y, k_samples, plot=True):\n",
    "    '''\n",
    "    INPUT:\n",
    "    X dataframe that contains the features.\n",
    "    y dataframe that contains the variable to be predicted.\n",
    "    k_samples is a list of k values that will be tested.\n",
    "    \n",
    "    OUTPUT:\n",
    "    A dictionary that contains values of tested k-values as keys and r-squared values for each key.\n",
    "    The k-value that has the highest r-squared.\n",
    "\n",
    "    '''   \n",
    "    result_r_squareds = []\n",
    "    results = {}\n",
    "    for kes in k_samples:\n",
    "        selector = SelectKBest(score_func=f_regression, k=kes)\n",
    "        selector.fit_transform(X, y)\n",
    "        selected_cols = selector.get_support(indices=True)\n",
    "        features_new_X = X.iloc[:,selected_cols]\n",
    "        \n",
    "        X_train, X_test, y_train, y_test = train_test_split(features_new_X, y, test_size = 0.2, random_state=42)\n",
    "        lm_model = LinearRegression(normalize=True)\n",
    "        lm_model.fit(X_train, y_train)\n",
    "        y_test_preds = lm_model.predict(X_test)\n",
    "        result_r_squareds.append(r2_score(y_test, y_test_preds))\n",
    "        results[str(kes)] = r2_score(y_test, y_test_preds)\n",
    "    \n",
    "    if plot:\n",
    "        plt.plot(k_samples, result_r_squareds, label=\"r-squared\", alpha=0.5)\n",
    "        plt.xlabel(\"Different k_values\")\n",
    "        plt.ylabel(\"R_Squared_Values\")\n",
    "        plt.legend(loc=1)\n",
    "        plt.show()\n",
    "    \n",
    "    best_k = max(results, key=results.get)\n",
    "    \n",
    "    return results, best_k"
   ]
  },
  {
   "cell_type": "code",
   "execution_count": 100,
   "metadata": {},
   "outputs": [],
   "source": [
    "from sklearn.impute import SimpleImputer\n",
    "from sklearn.feature_selection import SelectKBest, f_regression\n",
    "\n",
    "def find_optimal_number_of_selectors(X, y, k_samples, plot=True):\n",
    "    results = {}\n",
    "    best_k = None\n",
    "    best_r2 = -float('inf')\n",
    "    \n",
    "    # Impute missing values\n",
    "    imputer = SimpleImputer(strategy='mean')\n",
    "    X_imputed = imputer.fit_transform(X)\n",
    "    \n",
    "    for k in k_samples:\n",
    "        selector = SelectKBest(score_func=f_regression, k=k)\n",
    "        selector.fit_transform(X_imputed, y)\n",
    "        selected_cols = selector.get_support(indices=True)\n",
    "        features_new_X = X_imputed[:, selected_cols]\n",
    "        \n",
    "        # Train a model and evaluate its performance\n",
    "        model = LinearRegression()\n",
    "        model.fit(features_new_X, y)\n",
    "        y_pred = model.predict(features_new_X)\n",
    "        r2 = r2_score(y, y_pred)\n",
    "        \n"
   ]
  },
  {
   "cell_type": "markdown",
   "metadata": {},
   "source": [
    "## For Question-3: Estimating Listing Price\n",
    "### The objective was to build a model to estimate the price of a listing based on various features. The code prepared the data by handling missing values and converting categorical variables into numerical form. A Linear Regression model was trained and evaluated, achieving an R-squared value of 0.225. Additionally, feature selection techniques were applied to identify the most influential features on price estimation."
   ]
  },
  {
   "cell_type": "markdown",
   "metadata": {},
   "source": [
    "### Question-4\n",
    "\n",
    "In the dataset we have latitude and longitude that gives information about the location of the listing. I would like to investigate effect of listings' proximity to Seattle Downtown. Does it increase the price or decrease the price to be close to downtown. And how much does it effect the price? This is my final question to answer."
   ]
  },
  {
   "cell_type": "markdown",
   "metadata": {},
   "source": [
    "### Below I write a function that calculate the distance from downtown. According to Google Maps the coordinates of Seattle downtown are [47.605151, -122.334379] This is the coordinate that I will calculate the distance of every listing."
   ]
  },
  {
   "cell_type": "code",
   "execution_count": 101,
   "metadata": {},
   "outputs": [],
   "source": [
    "def distance_from_downtown(lat, lon, downtown=[47.605151, -122.334379]):\n",
    "    '''\n",
    "    INPUT:\n",
    "    lat is the latitude of the point that I will calculate distance.\n",
    "    lon is the longitude of the point that I will calculate distance.\n",
    "    downtown is the coordinate of Seattle Downtown according to Google Maps. Downtown variable can be different, if the\n",
    "    distance is expected to be calculated from a different point.\n",
    "    \n",
    "    OUTPUT:\n",
    "    Distance between the point and the downtown.\n",
    "    '''   \n",
    "    R = 6373.0\n",
    "    lat1 = math.radians(downtown[0])\n",
    "    lon1 = math.radians(downtown[1])\n",
    "    lat2 = math.radians(lat)\n",
    "    lon2 = math.radians(lon)\n",
    "    dlon = lon2 - lon1\n",
    "    dlat = lat2 - lat1\n",
    "    a = math.sin(dlat / 2)**2 + math.cos(lat1) * math.cos(lat2) * math.sin(dlon / 2)**2\n",
    "    c = 2 * math.atan2(math.sqrt(a), math.sqrt(1 - a))\n",
    "    distance = R * c\n",
    "    return distance"
   ]
  },
  {
   "cell_type": "code",
   "execution_count": 102,
   "metadata": {},
   "outputs": [],
   "source": [
    "#Below I make a for look to calculate the distance of each listing from downtown.\n",
    "#I create a new variable called 'distance_from_downtown' which has the information of distance of listing from downtown. \n",
    "for i in range(len(df_lis_ml)):\n",
    "    df_lis_ml.loc[ i , 'distance_from_downtown'] = distance_from_downtown(df_lis_ml.loc[ i ,'latitude'] , df_lis_ml.loc[ i ,'longitude'])"
   ]
  },
  {
   "cell_type": "code",
   "execution_count": 103,
   "metadata": {},
   "outputs": [],
   "source": [
    "#Since we added a distance variable, we do not need 'latitude', 'longitude' columns.\n",
    "df_lis_ml.drop(columns=['latitude', 'longitude'], inplace=True)"
   ]
  },
  {
   "cell_type": "markdown",
   "metadata": {},
   "source": [
    "### Lets make another regression model with distance from downtown variable."
   ]
  },
  {
   "cell_type": "code",
   "execution_count": 104,
   "metadata": {},
   "outputs": [],
   "source": [
    "#Creating the X (feautures) and y (the variable to be modelled) dataframes\n",
    "y = df_lis_ml['price']\n",
    "X = df_lis_ml.drop(columns='price')"
   ]
  },
  {
   "cell_type": "code",
   "execution_count": 105,
   "metadata": {},
   "outputs": [],
   "source": [
    "#Splitting the new dataframes into train and test dataframes\n",
    "X_train, X_test, y_train, y_test = train_test_split(X, y, test_size = 0.2, random_state=42)"
   ]
  },
  {
   "cell_type": "code",
   "execution_count": 106,
   "metadata": {
    "scrolled": true
   },
   "outputs": [
    {
     "name": "stdout",
     "output_type": "stream",
     "text": [
      "0.2213709164084403\n"
     ]
    },
    {
     "name": "stderr",
     "output_type": "stream",
     "text": [
      "C:\\Users\\msmoh\\anaconda3\\Lib\\site-packages\\sklearn\\impute\\_base.py:577: UserWarning: Skipping features without any observed values: ['neighbourhood_group_cleansed']. At least one non-missing value is needed for imputation with strategy='mean'.\n",
      "  warnings.warn(\n",
      "C:\\Users\\msmoh\\anaconda3\\Lib\\site-packages\\sklearn\\impute\\_base.py:577: UserWarning: Skipping features without any observed values: ['neighbourhood_group_cleansed']. At least one non-missing value is needed for imputation with strategy='mean'.\n",
      "  warnings.warn(\n"
     ]
    }
   ],
   "source": [
    "from sklearn.linear_model import LinearRegression\n",
    "from sklearn.metrics import r2_score\n",
    "from sklearn.preprocessing import StandardScaler\n",
    "from sklearn.impute import SimpleImputer\n",
    "\n",
    "# Fill missing values with mean\n",
    "imputer = SimpleImputer(strategy='mean')\n",
    "X_train_imputed = imputer.fit_transform(X_train)\n",
    "X_test_imputed = imputer.transform(X_test)\n",
    "\n",
    "# Normalize the features\n",
    "scaler = StandardScaler()\n",
    "X_train_scaled = scaler.fit_transform(X_train_imputed)\n",
    "X_test_scaled = scaler.transform(X_test_imputed)\n",
    "\n",
    "# Applying the linear regression, fitting the model, making predictions with the test set\n",
    "lm_model = LinearRegression()\n",
    "lm_model.fit(X_train_scaled, y_train)\n",
    "y_test_preds = lm_model.predict(X_test_scaled)\n",
    "\n",
    "# Scoring the success of the model\n",
    "test_score = r2_score(y_test, y_test_preds)\n",
    "print(test_score)\n"
   ]
  },
  {
   "cell_type": "code",
   "execution_count": 107,
   "metadata": {},
   "outputs": [],
   "source": [
    "#Previously I had written a function above to see coefficients of my regression model.\n",
    "#The name of the function was \"coef_weights\"\n",
    "\n",
    "#I use the function again to find the coefficients of the new model.\n",
    "coef_df = coef_weights(lm_model.coef_, X_train)"
   ]
  },
  {
   "cell_type": "code",
   "execution_count": 108,
   "metadata": {
    "scrolled": false
   },
   "outputs": [
    {
     "data": {
      "text/html": [
       "<div>\n",
       "<style scoped>\n",
       "    .dataframe tbody tr th:only-of-type {\n",
       "        vertical-align: middle;\n",
       "    }\n",
       "\n",
       "    .dataframe tbody tr th {\n",
       "        vertical-align: top;\n",
       "    }\n",
       "\n",
       "    .dataframe thead th {\n",
       "        text-align: right;\n",
       "    }\n",
       "</style>\n",
       "<table border=\"1\" class=\"dataframe\">\n",
       "  <thead>\n",
       "    <tr style=\"text-align: right;\">\n",
       "      <th></th>\n",
       "      <th>est_int</th>\n",
       "      <th>coefs</th>\n",
       "      <th>abs_coefs</th>\n",
       "    </tr>\n",
       "  </thead>\n",
       "  <tbody>\n",
       "    <tr>\n",
       "      <th>75</th>\n",
       "      <td>distance_from_downtown</td>\n",
       "      <td>3.639084</td>\n",
       "      <td>3.639084</td>\n",
       "    </tr>\n",
       "  </tbody>\n",
       "</table>\n",
       "</div>"
      ],
      "text/plain": [
       "                   est_int     coefs  abs_coefs\n",
       "75  distance_from_downtown  3.639084   3.639084"
      ]
     },
     "execution_count": 108,
     "metadata": {},
     "output_type": "execute_result"
    }
   ],
   "source": [
    "#I print the coefficient of 'distance_from_downtown' variable\n",
    "coef_df[coef_df['est_int'] == 'distance_from_downtown']"
   ]
  },
  {
   "cell_type": "markdown",
   "metadata": {
    "scrolled": true
   },
   "source": [
    "## For Question-4: Proximity to Downtown\n",
    "### The analysis investigated the effect of a listing's proximity to Seattle Downtown on its price. By calculating the distance of each listing from downtown, the code revealed that as the distance increases, the price of the listing decreases. For every kilometer farther from downtown, the price decreases by approximately 3 USD."
   ]
  },
  {
   "cell_type": "markdown",
   "metadata": {},
   "source": [
    "# Conclusion :- \n",
    "### Overall, the analysis provided insights into the most common amenities, factors influencing guest preferences, methods for estimating listing prices, and the impact of location proximity on pricing"
   ]
  },
  {
   "cell_type": "code",
   "execution_count": null,
   "metadata": {},
   "outputs": [],
   "source": []
  }
 ],
 "metadata": {
  "kernelspec": {
   "display_name": "Python 3 (ipykernel)",
   "language": "python",
   "name": "python3"
  },
  "language_info": {
   "codemirror_mode": {
    "name": "ipython",
    "version": 3
   },
   "file_extension": ".py",
   "mimetype": "text/x-python",
   "name": "python",
   "nbconvert_exporter": "python",
   "pygments_lexer": "ipython3",
   "version": "3.11.4"
  }
 },
 "nbformat": 4,
 "nbformat_minor": 2
}
